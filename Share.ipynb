{
 "cells": [
  {
   "cell_type": "code",
   "execution_count": 14,
   "id": "951b796e",
   "metadata": {},
   "outputs": [
    {
     "name": "stdout",
     "output_type": "stream",
     "text": [
      "Requirement already satisfied: itk-io in c:\\users\\jhanwarg\\anaconda3\\lib\\site-packages (5.3.0)\n",
      "Requirement already satisfied: itk-core==5.3.0 in c:\\users\\jhanwarg\\anaconda3\\lib\\site-packages (from itk-io) (5.3.0)\n",
      "Requirement already satisfied: numpy in c:\\users\\jhanwarg\\appdata\\roaming\\python\\python39\\site-packages (from itk-core==5.3.0->itk-io) (1.24.2)\n"
     ]
    }
   ],
   "source": [
    "# !pip install \"itkwidgets[all]>=1.0a16\" --user\n",
    "# !pip install itk-io"
   ]
  },
  {
   "cell_type": "code",
   "execution_count": 2,
   "id": "5dd10dc4",
   "metadata": {},
   "outputs": [],
   "source": [
    "from itkwidgets import view\n",
    "import itk\n",
    "import urllib.request"
   ]
  },
  {
   "cell_type": "code",
   "execution_count": 6,
   "id": "fe2fc1bd",
   "metadata": {},
   "outputs": [],
   "source": [
    "# you can download ct and dose using the given links\n",
    "\n",
    "ct = itk.imread('ct.nrrd')\n",
    "dose = itk.imread('dose.nrrd')\n"
   ]
  },
  {
   "cell_type": "code",
   "execution_count": 7,
   "id": "8c153e08",
   "metadata": {},
   "outputs": [],
   "source": [
    "output_image_type = itk.Image[itk.F, dose.GetImageDimension()]\n",
    "\n",
    "castImageFilter = itk.CastImageFilter[type(ct), output_image_type].New()\n",
    "castImageFilter.SetInput(ct)\n",
    "castImageFilter.Update()\n",
    "ct = castImageFilter.GetOutput()\n",
    "castImageFilter = itk.CastImageFilter[type(dose), output_image_type].New()\n",
    "castImageFilter.SetInput(dose)\n",
    "castImageFilter.Update()\n",
    "dose = castImageFilter.GetOutput()\n"
   ]
  },
  {
   "cell_type": "code",
   "execution_count": 8,
   "id": "c9ea2f58",
   "metadata": {},
   "outputs": [],
   "source": [
    "composeFilter = itk.ComposeImageFilter[itk.Image[itk.F,3], itk.VectorImage[itk.F,3]].New()\n",
    "composeFilter.SetInput1(ct)\n",
    "composeFilter.SetInput2(dose)\n",
    "# Execute the filter to produce the output image\n",
    "composeFilter.Update()\n",
    "outputImage = composeFilter.GetOutput()\n"
   ]
  },
  {
   "cell_type": "code",
   "execution_count": 9,
   "id": "8204b1f8",
   "metadata": {},
   "outputs": [
    {
     "ename": "RuntimeError",
     "evalue": "Could not process the viewer data",
     "output_type": "error",
     "traceback": [
      "\u001b[1;31m---------------------------------------------------------------------------\u001b[0m",
      "\u001b[1;31mRuntimeError\u001b[0m                              Traceback (most recent call last)",
      "\u001b[1;32m~\\AppData\\Local\\Temp/ipykernel_13876/2334972721.py\u001b[0m in \u001b[0;36m<module>\u001b[1;34m\u001b[0m\n\u001b[1;32m----> 1\u001b[1;33m \u001b[0mviewer\u001b[0m \u001b[1;33m=\u001b[0m \u001b[0mview\u001b[0m\u001b[1;33m(\u001b[0m\u001b[0moutputImage\u001b[0m\u001b[1;33m)\u001b[0m\u001b[1;33m\u001b[0m\u001b[1;33m\u001b[0m\u001b[0m\n\u001b[0m\u001b[0;32m      2\u001b[0m \u001b[0mviewer\u001b[0m\u001b[1;33m\u001b[0m\u001b[1;33m\u001b[0m\u001b[0m\n",
      "\u001b[1;32m~\\AppData\\Roaming\\Python\\Python39\\site-packages\\itkwidgets\\viewer.py\u001b[0m in \u001b[0;36mview\u001b[1;34m(data, **kwargs)\u001b[0m\n\u001b[0;32m    436\u001b[0m         \u001b[0mproperties\u001b[0m \u001b[0mon\u001b[0m \u001b[0mthe\u001b[0m \u001b[0mobject\u001b[0m \u001b[0mto\u001b[0m \u001b[0mchange\u001b[0m \u001b[0mthe\u001b[0m \u001b[0mvisualization\u001b[0m\u001b[1;33m.\u001b[0m\u001b[1;33m\u001b[0m\u001b[1;33m\u001b[0m\u001b[0m\n\u001b[0;32m    437\u001b[0m     \"\"\"\n\u001b[1;32m--> 438\u001b[1;33m     \u001b[0mviewer\u001b[0m \u001b[1;33m=\u001b[0m \u001b[0mViewer\u001b[0m\u001b[1;33m(\u001b[0m\u001b[0mdata\u001b[0m\u001b[1;33m=\u001b[0m\u001b[0mdata\u001b[0m\u001b[1;33m,\u001b[0m \u001b[1;33m**\u001b[0m\u001b[0mkwargs\u001b[0m\u001b[1;33m)\u001b[0m\u001b[1;33m\u001b[0m\u001b[1;33m\u001b[0m\u001b[0m\n\u001b[0m\u001b[0;32m    439\u001b[0m \u001b[1;33m\u001b[0m\u001b[0m\n\u001b[0;32m    440\u001b[0m     \u001b[1;32mreturn\u001b[0m \u001b[0mviewer\u001b[0m\u001b[1;33m\u001b[0m\u001b[1;33m\u001b[0m\u001b[0m\n",
      "\u001b[1;32m~\\AppData\\Roaming\\Python\\Python39\\site-packages\\itkwidgets\\viewer.py\u001b[0m in \u001b[0;36m__init__\u001b[1;34m(self, ui_collapsed, rotate, ui, **add_data_kwargs)\u001b[0m\n\u001b[0;32m    136\u001b[0m     ):\n\u001b[0;32m    137\u001b[0m         \u001b[0minput_data\u001b[0m \u001b[1;33m=\u001b[0m \u001b[0mself\u001b[0m\u001b[1;33m.\u001b[0m\u001b[0minput_data\u001b[0m\u001b[1;33m(\u001b[0m\u001b[0madd_data_kwargs\u001b[0m\u001b[1;33m)\u001b[0m\u001b[1;33m\u001b[0m\u001b[1;33m\u001b[0m\u001b[0m\n\u001b[1;32m--> 138\u001b[1;33m         \u001b[0mdata\u001b[0m \u001b[1;33m=\u001b[0m \u001b[0mself\u001b[0m\u001b[1;33m.\u001b[0m\u001b[0minit_data\u001b[0m\u001b[1;33m(\u001b[0m\u001b[0minput_data\u001b[0m\u001b[1;33m)\u001b[0m\u001b[1;33m\u001b[0m\u001b[1;33m\u001b[0m\u001b[0m\n\u001b[0m\u001b[0;32m    139\u001b[0m         \u001b[1;34m\"\"\"Create a viewer.\"\"\"\u001b[0m\u001b[1;33m\u001b[0m\u001b[1;33m\u001b[0m\u001b[0m\n\u001b[0;32m    140\u001b[0m         self.viewer_rpc = ViewerRPC(\n",
      "\u001b[1;32m~\\AppData\\Roaming\\Python\\Python39\\site-packages\\itkwidgets\\viewer.py\u001b[0m in \u001b[0;36minit_data\u001b[1;34m(self, input_data)\u001b[0m\n\u001b[0;32m    179\u001b[0m                 \u001b[0mresult\u001b[0m \u001b[1;33m=\u001b[0m \u001b[0m_get_viewer_point_sets\u001b[0m\u001b[1;33m(\u001b[0m\u001b[0mdata\u001b[0m\u001b[1;33m)\u001b[0m\u001b[1;33m\u001b[0m\u001b[1;33m\u001b[0m\u001b[0m\n\u001b[0;32m    180\u001b[0m             \u001b[1;32mif\u001b[0m \u001b[0mresult\u001b[0m \u001b[1;32mis\u001b[0m \u001b[1;32mNone\u001b[0m\u001b[1;33m:\u001b[0m\u001b[1;33m\u001b[0m\u001b[1;33m\u001b[0m\u001b[0m\n\u001b[1;32m--> 181\u001b[1;33m                 \u001b[1;32mraise\u001b[0m \u001b[0mRuntimeError\u001b[0m\u001b[1;33m(\u001b[0m\u001b[1;34mf\"Could not process the viewer {input_type}\"\u001b[0m\u001b[1;33m)\u001b[0m\u001b[1;33m\u001b[0m\u001b[1;33m\u001b[0m\u001b[0m\n\u001b[0m\u001b[0;32m    182\u001b[0m             \u001b[0m_init_data\u001b[0m\u001b[1;33m[\u001b[0m\u001b[0mkey\u001b[0m\u001b[1;33m]\u001b[0m \u001b[1;33m=\u001b[0m \u001b[0mresult\u001b[0m\u001b[1;33m\u001b[0m\u001b[1;33m\u001b[0m\u001b[0m\n\u001b[0;32m    183\u001b[0m         \u001b[1;32mreturn\u001b[0m \u001b[0m_init_data\u001b[0m\u001b[1;33m\u001b[0m\u001b[1;33m\u001b[0m\u001b[0m\n",
      "\u001b[1;31mRuntimeError\u001b[0m: Could not process the viewer data"
     ]
    }
   ],
   "source": [
    "viewer = view(outputImage)\n",
    "viewer"
   ]
  }
 ],
 "metadata": {
  "kernelspec": {
   "display_name": "portpy002",
   "language": "python",
   "name": "portpy002"
  },
  "language_info": {
   "codemirror_mode": {
    "name": "ipython",
    "version": 3
   },
   "file_extension": ".py",
   "mimetype": "text/x-python",
   "name": "python",
   "nbconvert_exporter": "python",
   "pygments_lexer": "ipython3",
   "version": "3.9.7"
  }
 },
 "nbformat": 4,
 "nbformat_minor": 5
}
